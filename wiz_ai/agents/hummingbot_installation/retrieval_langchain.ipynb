{
 "cells": [
  {
   "cell_type": "code",
   "execution_count": 14,
   "metadata": {
    "ExecuteTime": {
     "end_time": "2025-03-13T02:15:55.080159Z",
     "start_time": "2025-03-13T02:15:53.150715Z"
    }
   },
   "outputs": [],
   "source": [
    "from dotenv import load_dotenv\n",
    "\n",
    "load_dotenv()\n",
    "\n",
    "\n",
    "from langchain_huggingface import HuggingFaceEmbeddings\n",
    "\n",
    "\n",
    "embeddings = HuggingFaceEmbeddings(model_name=\"all-MiniLM-L6-v2\")"
   ]
  },
  {
   "cell_type": "code",
   "execution_count": 15,
   "metadata": {
    "ExecuteTime": {
     "end_time": "2025-03-13T02:15:55.122470Z",
     "start_time": "2025-03-13T02:15:55.082774Z"
    }
   },
   "outputs": [],
   "source": [
    "from langchain_qdrant import QdrantVectorStore\n",
    "from qdrant_client import QdrantClient\n",
    "from qdrant_client.http.models import Distance, VectorParams\n",
    "from wiz_ai.networks.embeddings import EmbeddingModelSingleton\n",
    "\n",
    "from wiz_ai.settings import settings\n",
    "\n",
    "client = QdrantClient(host=settings.QDRANT_DATABASE_HOST,\n",
    "                        port=settings.QDRANT_DATABASE_PORT,)\n",
    "vector_store = QdrantVectorStore(\n",
    "    client=client,\n",
    "    collection_name=\"knowledge_base\",\n",
    "    embedding=embeddings,\n",
    ")\n",
    "\n"
   ]
  },
  {
   "cell_type": "code",
   "execution_count": 20,
   "metadata": {
    "ExecuteTime": {
     "end_time": "2025-03-13T02:17:16.301196Z",
     "start_time": "2025-03-13T02:17:16.257186Z"
    }
   },
   "outputs": [],
   "source": [
    "docs = vector_store.similarity_search(\"How can I install hummingbot in MAC\", k=5)"
   ]
  },
  {
   "cell_type": "code",
   "execution_count": 21,
   "metadata": {
    "ExecuteTime": {
     "end_time": "2025-03-13T02:17:17.597418Z",
     "start_time": "2025-03-13T02:17:17.595404Z"
    }
   },
   "outputs": [
    {
     "data": {
      "text/plain": [
       "(Document(metadata={'notion_id': '19fc9b8e-a4f7-8072-9190-c043f2975b49', 'title': 'Docker installation guide - Mac', 'categories': ['Deploy', 'Installation'], 'status': 'Published', 'deprecated': False, '_id': '73f0fc6b-794d-5bea-8760-717d5db52837', '_collection_name': 'knowledge_base'}, page_content=\"### **Clone Hummingbot Repository**\\n\\nOpen a **Terminal** and run:\\n\\n`git clone https://github.com/hummingbot/hummingbot.git && cd hummingbot`\\n\\n### **Start Hummingbot in Docker**\\n\\nRun: `docker compose up -d`\\n\\n* Downloads the latest image if not installed.\\n* `d` runs Hummingbot in **detached mode**.\\n### **Attach to Running Instance**\\n\\nUse: `docker attach hummingbot`\\n\\nYou'll see the **Hummingbot welcome screen**\\n\\n---\"),\n",
       " 0.7483788)"
      ]
     },
     "execution_count": 21,
     "metadata": {},
     "output_type": "execute_result"
    }
   ],
   "source": [
    "docs[0]"
   ]
  },
  {
   "cell_type": "code",
   "execution_count": null,
   "metadata": {},
   "outputs": [],
   "source": []
  }
 ],
 "metadata": {
  "kernelspec": {
   "display_name": ".venv",
   "language": "python",
   "name": "python3"
  },
  "language_info": {
   "codemirror_mode": {
    "name": "ipython",
    "version": 3
   },
   "file_extension": ".py",
   "mimetype": "text/x-python",
   "name": "python",
   "nbconvert_exporter": "python",
   "pygments_lexer": "ipython3",
   "version": "3.11.10"
  }
 },
 "nbformat": 4,
 "nbformat_minor": 2
}
